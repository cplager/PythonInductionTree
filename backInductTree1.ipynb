{
 "cells": [
  {
   "cell_type": "code",
   "execution_count": 1,
   "metadata": {},
   "outputs": [],
   "source": [
    "import math"
   ]
  },
  {
   "cell_type": "code",
   "execution_count": 5,
   "metadata": {},
   "outputs": [],
   "source": [
    "import InductionTrees as it"
   ]
  },
  {
   "cell_type": "code",
   "execution_count": 3,
   "metadata": {},
   "outputs": [],
   "source": [
    "from imp import reload"
   ]
  },
  {
   "cell_type": "code",
   "execution_count": 6,
   "metadata": {},
   "outputs": [],
   "source": [
    "import EuropeanPut as ep"
   ]
  },
  {
   "cell_type": "code",
   "execution_count": 353,
   "metadata": {},
   "outputs": [
    {
     "data": {
      "text/plain": [
       "<module 'EuropeanPut' from 'C:\\\\Users\\\\Charles Plager\\\\OneDrive\\\\Documents\\\\Notebooks\\\\Python3\\\\EuropeanPut.py'>"
      ]
     },
     "execution_count": 353,
     "metadata": {},
     "output_type": "execute_result"
    }
   ],
   "source": [
    "reload(ep)"
   ]
  },
  {
   "cell_type": "code",
   "execution_count": 328,
   "metadata": {},
   "outputs": [
    {
     "data": {
      "text/plain": [
       "<module 'PropagationTrees' from 'C:\\\\Users\\\\Charles Plager\\\\OneDrive\\\\Documents\\\\Notebooks\\\\Python3\\\\PropagationTrees.py'>"
      ]
     },
     "execution_count": 328,
     "metadata": {},
     "output_type": "execute_result"
    }
   ],
   "source": [
    "reload(ep.pt)"
   ]
  },
  {
   "cell_type": "code",
   "execution_count": 7,
   "metadata": {},
   "outputs": [],
   "source": [
    "import Mortgage as mo"
   ]
  },
  {
   "cell_type": "code",
   "execution_count": 351,
   "metadata": {},
   "outputs": [
    {
     "data": {
      "text/plain": [
       "<module 'Mortgage' from 'C:\\\\Users\\\\Charles Plager\\\\OneDrive\\\\Documents\\\\Notebooks\\\\Python3\\\\Mortgage.py'>"
      ]
     },
     "execution_count": 351,
     "metadata": {},
     "output_type": "execute_result"
    }
   ],
   "source": [
    "reload(mo.pt);reload(mo)"
   ]
  },
  {
   "cell_type": "code",
   "execution_count": 8,
   "metadata": {},
   "outputs": [
    {
     "data": {
      "text/plain": [
       "\"{'startPrincipal': 100, 'mortRate': 0.07, 'periods': 10, 'interestStart': 0.03, 'interestVol': 0.2, 'interestDrift': 0.0, 'prepayCost': 0.0, 'upMult': 1.2214027581601699, 'downMult': 0.8187307530779818, 'periodPayment': 14.237750272736465}\""
      ]
     },
     "execution_count": 8,
     "metadata": {},
     "output_type": "execute_result"
    }
   ],
   "source": [
    "moInfo = mo.MortgageInfo(periods=10)\n",
    "'%s' % moInfo"
   ]
  },
  {
   "cell_type": "code",
   "execution_count": 10,
   "metadata": {},
   "outputs": [],
   "source": [
    "moTree = mo.it.Tree(mo.mortgageFactory, moInfo)"
   ]
  },
  {
   "cell_type": "code",
   "execution_count": 11,
   "metadata": {},
   "outputs": [
    {
     "name": "stdout",
     "output_type": "stream",
     "text": [
      "remainPrincipal  100.00   92.76   85.02   76.73   67.86   58.38   48.23   37.36   25.74   13.31    0.00  \n",
      "\n"
     ]
    }
   ],
   "source": [
    "print(moTree.stringifyLinear(['remainPrincipal']))"
   ]
  },
  {
   "cell_type": "code",
   "execution_count": 12,
   "metadata": {},
   "outputs": [
    {
     "name": "stdout",
     "output_type": "stream",
     "text": [
      "nonCallValue\n",
      "                                                                                  0.00  \n",
      "                                                                         12.05    0.00  \n",
      "                                                                 23.17   12.69    0.00  \n",
      "                                                         34.03   24.71   13.16    0.00  \n",
      "                                                 45.04   36.53   25.84   13.50    0.00  \n",
      "                                         56.39   48.46   38.39   26.66   13.73    0.00  \n",
      "                                 68.21   60.66   51.02   39.73   27.24   13.90    0.00  \n",
      "                         80.54   73.21   63.83   52.85   40.67   27.63   14.01    0.00  \n",
      "                 93.40   86.14   76.91   66.12   54.15   41.33   27.91   14.08    0.00  \n",
      "        106.75   99.45   90.25   79.56   67.72   55.05   41.78   28.09   14.13    0.00  \n",
      "120.56  113.12  103.87   93.19   81.42   68.83   55.66   42.08   28.22   14.17    0.00  \n",
      "\n"
     ]
    }
   ],
   "source": [
    "print(moTree.stringify('nonCallValue', True))"
   ]
  },
  {
   "cell_type": "code",
   "execution_count": 13,
   "metadata": {},
   "outputs": [
    {
     "name": "stdout",
     "output_type": "stream",
     "text": [
      "callValue\n",
      "                                                                                  0.00  \n",
      "                                                                         12.05    0.00  \n",
      "                                                                 23.17   12.69    0.00  \n",
      "                                                         34.03   24.71   13.16    0.00  \n",
      "                                                 45.01   36.49   25.74   13.31    0.00  \n",
      "                                         56.15   47.96   37.36   25.74   13.31    0.00  \n",
      "                                 67.02   58.38   48.23   37.36   25.74   13.31    0.00  \n",
      "                         76.73   67.86   58.38   48.23   37.36   25.74   13.31    0.00  \n",
      "                 85.02   76.73   67.86   58.38   48.23   37.36   25.74   13.31    0.00  \n",
      "         92.76   85.02   76.73   67.86   58.38   48.23   37.36   25.74   13.31    0.00  \n",
      "100.00   92.76   85.02   76.73   67.86   58.38   48.23   37.36   25.74   13.31    0.00  \n",
      "\n"
     ]
    }
   ],
   "source": [
    "print(moTree.stringify('callValue', True))"
   ]
  },
  {
   "cell_type": "code",
   "execution_count": 14,
   "metadata": {},
   "outputs": [
    {
     "name": "stdout",
     "output_type": "stream",
     "text": [
      "Warning: variable 'bob' now known\n"
     ]
    }
   ],
   "source": [
    "info = ep.EuropeanPutInfo(bob=3)"
   ]
  },
  {
   "cell_type": "code",
   "execution_count": 15,
   "metadata": {},
   "outputs": [
    {
     "data": {
      "text/plain": [
       "\"{'initialPrice': 100, 'strike': 100, 'numYears': 0.25, 'volatility': 0.234, 'periods': 10, 'rate': 0.1194, 'divRate': 0, 'periodRate': 0.0029850000000000002, 'stepVol': 1.0376916185256297, 'flipVol': 0.9636774376387633, 'qUp': 0.5311417547128361, 'qDown': 0.4688582452871639}\""
      ]
     },
     "execution_count": 15,
     "metadata": {},
     "output_type": "execute_result"
    }
   ],
   "source": [
    "'%s' % info"
   ]
  },
  {
   "cell_type": "code",
   "execution_count": 16,
   "metadata": {},
   "outputs": [],
   "source": [
    "tree = ep.it.Tree(ep.europeanPutFactory, info)"
   ]
  },
  {
   "cell_type": "code",
   "execution_count": 17,
   "metadata": {},
   "outputs": [
    {
     "name": "stdout",
     "output_type": "stream",
     "text": [
      "price\n",
      "                                                                                144.77  \n",
      "                                                                        139.51          \n",
      "                                                                134.45          134.45  \n",
      "                                                        129.56          129.56          \n",
      "                                                124.86          124.86          124.86  \n",
      "                                        120.32          120.32          120.32          \n",
      "                                115.95          115.95          115.95          115.95  \n",
      "                        111.74          111.74          111.74          111.74          \n",
      "                107.68          107.68          107.68          107.68          107.68  \n",
      "        103.77          103.77          103.77          103.77          103.77          \n",
      "100.00          100.00          100.00          100.00          100.00          100.00  \n",
      "         96.37           96.37           96.37           96.37           96.37          \n",
      "                 92.87           92.87           92.87           92.87           92.87  \n",
      "                         89.49           89.49           89.49           89.49          \n",
      "                                 86.24           86.24           86.24           86.24  \n",
      "                                         83.11           83.11           83.11          \n",
      "                                                 80.09           80.09           80.09  \n",
      "                                                         77.18           77.18          \n",
      "                                                                 74.38           74.38  \n",
      "                                                                         71.68          \n",
      "                                                                                 69.07  \n",
      "\n"
     ]
    }
   ],
   "source": [
    "print(tree.stringify('price'))"
   ]
  },
  {
   "cell_type": "code",
   "execution_count": 18,
   "metadata": {},
   "outputs": [
    {
     "name": "stdout",
     "output_type": "stream",
     "text": [
      "value\n",
      "                                                                                 44.77  \n",
      "                                                                         39.81          \n",
      "                                                                 35.04           34.45  \n",
      "                                                         30.45           29.86          \n",
      "                                                 26.04           25.45           24.86  \n",
      "                                         21.80           21.21           20.62          \n",
      "                                 17.80           17.14           16.55           15.95  \n",
      "                         14.15           13.38           12.63           12.04          \n",
      "                 10.95           10.10            9.21            8.28            7.68  \n",
      "          8.27            7.40            6.46            5.39            4.07          \n",
      "  6.10            5.28            4.39            3.39            2.15            0.00  \n",
      "          3.68            2.91            2.08            1.14            0.00          \n",
      "                  1.89            1.25            0.60            0.00            0.00  \n",
      "                          0.74            0.32            0.00            0.00          \n",
      "                                  0.17            0.00            0.00            0.00  \n",
      "                                          0.00            0.00            0.00          \n",
      "                                                  0.00            0.00            0.00  \n",
      "                                                          0.00            0.00          \n",
      "                                                                  0.00            0.00  \n",
      "                                                                          0.00          \n",
      "                                                                                  0.00  \n",
      "\n"
     ]
    }
   ],
   "source": [
    "print(tree.stringify('value'))"
   ]
  },
  {
   "cell_type": "code",
   "execution_count": 19,
   "metadata": {},
   "outputs": [
    {
     "name": "stdout",
     "output_type": "stream",
     "text": [
      "price\n",
      "                                                                                144.77  \n",
      "                                                                        139.51  134.45  \n",
      "                                                                134.45  129.56  124.86  \n",
      "                                                        129.56  124.86  120.32  115.95  \n",
      "                                                124.86  120.32  115.95  111.74  107.68  \n",
      "                                        120.32  115.95  111.74  107.68  103.77  100.00  \n",
      "                                115.95  111.74  107.68  103.77  100.00   96.37   92.87  \n",
      "                        111.74  107.68  103.77  100.00   96.37   92.87   89.49   86.24  \n",
      "                107.68  103.77  100.00   96.37   92.87   89.49   86.24   83.11   80.09  \n",
      "        103.77  100.00   96.37   92.87   89.49   86.24   83.11   80.09   77.18   74.38  \n",
      "100.00   96.37   92.87   89.49   86.24   83.11   80.09   77.18   74.38   71.68   69.07  \n",
      "\n"
     ]
    }
   ],
   "source": [
    "print(tree.stringify('price',True))"
   ]
  },
  {
   "cell_type": "code",
   "execution_count": 20,
   "metadata": {},
   "outputs": [
    {
     "name": "stdout",
     "output_type": "stream",
     "text": [
      "value\n",
      "                                                                                 44.77  \n",
      "                                                                         39.81   34.45  \n",
      "                                                                 35.04   29.86   24.86  \n",
      "                                                         30.45   25.45   20.62   15.95  \n",
      "                                                 26.04   21.21   16.55   12.04    7.68  \n",
      "                                         21.80   17.14   12.63    8.28    4.07    0.00  \n",
      "                                 17.80   13.38    9.21    5.39    2.15    0.00    0.00  \n",
      "                         14.15   10.10    6.46    3.39    1.14    0.00    0.00    0.00  \n",
      "                 10.95    7.40    4.39    2.08    0.60    0.00    0.00    0.00    0.00  \n",
      "          8.27    5.28    2.91    1.25    0.32    0.00    0.00    0.00    0.00    0.00  \n",
      "  6.10    3.68    1.89    0.74    0.17    0.00    0.00    0.00    0.00    0.00    0.00  \n",
      "\n"
     ]
    }
   ],
   "source": [
    "print(tree.stringify('value',True))"
   ]
  },
  {
   "cell_type": "code",
   "execution_count": 21,
   "metadata": {},
   "outputs": [
    {
     "name": "stdout",
     "output_type": "stream",
     "text": [
      "{'initialPrice': 100, 'strike': 100, 'numYears': 0.25, 'volatility': 0.234, 'periods': 8, 'rate': 0.1194, 'divRate': 0, 'periodRate': 0.00373125, 'stepVol': 1.0422332292074714, 'flipVol': 0.9594781398021763, 'qUp': 0.5348321208416197, 'qDown': 0.4651678791583803, 'iteration': 1}\n"
     ]
    }
   ],
   "source": [
    "info2 = info.copy()\n",
    "info2.periods = 8\n",
    "info2.calc()\n",
    "print(info2)\n",
    "tree.update(info2)"
   ]
  },
  {
   "cell_type": "code",
   "execution_count": 22,
   "metadata": {},
   "outputs": [
    {
     "name": "stdout",
     "output_type": "stream",
     "text": [
      "price\n",
      "                                                                139.23  \n",
      "                                                        133.58  128.17  \n",
      "                                                128.17  122.98  117.99  \n",
      "                                        122.98  117.99  113.21  108.63  \n",
      "                                117.99  113.21  108.63  104.22  100.00  \n",
      "                        113.21  108.63  104.22  100.00   95.95   92.06  \n",
      "                108.63  104.22  100.00   95.95   92.06   88.33   84.75  \n",
      "        104.22  100.00   95.95   92.06   88.33   84.75   81.32   78.02  \n",
      "100.00   95.95   92.06   88.33   84.75   81.32   78.02   74.86   71.83  \n",
      "\n"
     ]
    }
   ],
   "source": [
    "print(tree.stringify('price',True))"
   ]
  },
  {
   "cell_type": "code",
   "execution_count": 23,
   "metadata": {},
   "outputs": [
    {
     "name": "stdout",
     "output_type": "stream",
     "text": [
      "value\n",
      "                                                                 39.23  \n",
      "                                                         33.96   28.17  \n",
      "                                                 28.91   23.35   17.99  \n",
      "                                         24.09   18.74   13.59    8.63  \n",
      "                                 19.48   14.33    9.37    4.60    0.00  \n",
      "                         15.23   10.47    6.13    2.45    0.00    0.00  \n",
      "                 11.53    7.37    3.87    1.30    0.00    0.00    0.00  \n",
      "          8.48    5.03    2.38    0.70    0.00    0.00    0.00    0.00  \n",
      "  6.07    3.35    1.44    0.37    0.00    0.00    0.00    0.00    0.00  \n",
      "\n"
     ]
    }
   ],
   "source": [
    "print(tree.stringify('value',True))"
   ]
  }
 ],
 "metadata": {
  "kernelspec": {
   "display_name": "Python 3",
   "language": "python",
   "name": "python3"
  },
  "language_info": {
   "codemirror_mode": {
    "name": "ipython",
    "version": 3
   },
   "file_extension": ".py",
   "mimetype": "text/x-python",
   "name": "python",
   "nbconvert_exporter": "python",
   "pygments_lexer": "ipython3",
   "version": "3.7.1"
  }
 },
 "nbformat": 4,
 "nbformat_minor": 2
}
